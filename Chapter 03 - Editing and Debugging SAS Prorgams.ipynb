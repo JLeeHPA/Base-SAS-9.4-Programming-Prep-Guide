{
 "cells": [
  {
   "cell_type": "markdown",
   "metadata": {},
   "source": [
    "# Chapter 03 - Editing and Debugging SAS Prorgams\n",
    "\n",
    "## Table of Contents:\n",
    "1. [Objectives](#objectives)\n",
    "2. [Opening a Stored SAS Program](#openstored)\n",
    "3. [Editing SAS Programs](#editingprograms)\n",
    "4. [Clearing SAS Programming Windows](#clearwin)\n",
    "5. [Interpreting Error Messages](#interpreterrors)\n",
    "6. [Correcting Errors](#correctingerrors)\n",
    "7. [Resolving Common Problems](#resolveproblems)"
   ]
  },
  {
   "cell_type": "markdown",
   "metadata": {},
   "source": [
    "## Objectives: <a class=\"anchor\" id=\"objectives\"></a>\n",
    "* open a stored SAS program\n",
    "* edit SAS programs\n",
    "* clear SAS programming windows\n",
    "* interpret error messages in the SAS log\n",
    "* correct errors\n",
    "* resolve common problems"
   ]
  },
  {
   "cell_type": "markdown",
   "metadata": {},
   "source": [
    "## Opening a Stored SAS Program <a class=\"anchor\" id=\"openstored\"></a>\n",
    "\n",
    "There are 4 main ways to open a stored SAS program:\n",
    "1. file shortcuts\n",
    "2. My Favorites Folder\n",
    "3. the Open window\n",
    "4. the INCLUDE command\n",
    "\n",
    "1-3 are self-explanatory and will not be discussed here.\n",
    "\n",
    "The INCLUDE command runs a specific .sas file. Its syntax is shown here:\n",
    "\n",
    "    indclude 'path-to-file'\n",
    "\n",
    "No semicolon is needed at the end of the INCLUDE command because it is a command and not a statement."
   ]
  },
  {
   "cell_type": "markdown",
   "metadata": {},
   "source": [
    "## Editing SAS Programs <a class=\"anchor\" id=\"editingprograms\"></a>\n",
    "\n",
    "The Enhanced Editor is recommended to the basic one. It has the following features:\n",
    "* the use of color-coding to identify code elements\n",
    "* automatic intentation of the next line\n",
    "* collapse/expansion of sections of SAS steps and macros\n",
    "* bookmarks of lines of code for easy access\n",
    "* open multiple views of a file\n",
    "\n",
    "Refer to the SAS documentation for help on any of these features. To set options for the Enhanced Editor, go to **Tools** => **Options** => **Enhanced Editor**.\n",
    "\n",
    "If you are using the Program Editor instead of the Enhanced Editor then submitted programs will disappear. To recall the submitted program, select **Run** => **Recall Last Submit**."
   ]
  },
  {
   "cell_type": "markdown",
   "metadata": {},
   "source": [
    "## Clearing SAS Programming Windows <a class=\"anchor\" id=\"clearwin\"></a>\n",
    "\n",
    "To clear the Output and Log windows, select **Edit** => **Clear All**. You can also activate a window and then issuing the CLEAR command. Remember, **text that has been cleared cannot be recalled.**"
   ]
  },
  {
   "cell_type": "markdown",
   "metadata": {},
   "source": [
    "## Interpreting Error Messages <a class=\"anchor\" id=\"interpreterrors\"></a>\n",
    "\n",
    "The 2 types of errors are:\n",
    "* syntax errors - program statements that do not conform to SAS language rules\n",
    "* data errors - inappropriate data values for specified applications\n",
    "\n",
    "Syntax errors will break a step if found by the SAS interpreter. Errors are written to the log with the keyword ERROR and its possible location, as well as an explanation."
   ]
  },
  {
   "cell_type": "markdown",
   "metadata": {},
   "source": [
    "## Correcting Errors <a class=\"anchor\" id=\"correctingerrors\"></a>\n",
    "\n",
    "After correcting an error in the code, it is always a good idea to clear the log and the output so that you do not confuse the results of one submit with the results of a new one.\n",
    "\n",
    "Best SAS practice is to check the log first after every code submit. Data errors, which don't prematurely halt SAS, can mislead you to think that nothing is wrong. The log will indicate whether that is true or not."
   ]
  },
  {
   "cell_type": "markdown",
   "metadata": {},
   "source": [
    "## Resolving Common Problems <a class=\"anchor\" id=\"resolveproblems\"></a>\n",
    "\n",
    "Common syntax error problems are:\n",
    "* spelling mistakes/typos\n",
    "* missing RUN statement\n",
    "* misisng semicolon\n",
    "* unbalanced quotation marks\n",
    "* invalid options\n",
    "\n",
    "The DATA step will still compile if syntax errors are found, but the step will not execute.\n",
    "\n",
    "System options allow you to control the error handling in SAS. Here are some common system options:\n",
    "* ERRORS = n - specifies max number of errors for which complete data error messages are pritned\n",
    "* FMTERR | NOFMTERR - controls whether SAS generates an error message when a format of a variable cannot be found\n",
    "* SOURCE | NOSOURCE - controls whether SAS writes source statements to the SAS log\n",
    "\n",
    "Logic errors do not stop a program from running, but they can be debugged using the DATA step debugger. The DATA step debugger allows you to inssue commands to execute DATA step statements line by line while displaying the results in a window. The syntax is shown below:\n",
    "\n",
    "    data test / debug;\n",
    "        <statements>;\n",
    "    run;\n",
    "    \n",
    "For detailed information about the debugger, see the SAS documentation.\n",
    "\n",
    "Data errors are assigned missing values during the execution phase. However, unlike syntax errors, **data errors do not stop SAS from running**. "
   ]
  }
 ],
 "metadata": {
  "kernelspec": {
   "display_name": "SAS",
   "language": "sas",
   "name": "sas"
  },
  "language_info": {
   "codemirror_mode": "sas",
   "file_extension": ".sas",
   "mimetype": "text/x-sas",
   "name": "sas"
  }
 },
 "nbformat": 4,
 "nbformat_minor": 0
}
