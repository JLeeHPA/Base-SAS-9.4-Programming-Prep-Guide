{
 "cells": [
  {
   "cell_type": "markdown",
   "metadata": {},
   "source": [
    "# Chapter 21 - Reading Hierarchical Files\n",
    "\n",
    "## Table of Contents:\n",
    "\n",
    "1. [Objectives](#objectives)\n",
    "2. [Creating One Observation per Detail Record](#create1obsdetail)\n",
    "3. [Creating One Observation per Header Record](#create1obsheader)"
   ]
  },
  {
   "cell_type": "markdown",
   "metadata": {},
   "source": [
    "## Objectives: <a class=\"anchor\" id=\"objectives\"></a>\n",
    "\n",
    "* retain the value of a variable\n",
    "* conditionally execute a SAS statement\n",
    "* determine whenthe last observation is being processed\n",
    "* conditionally execute multiple SAS statements"
   ]
  },
  {
   "cell_type": "markdown",
   "metadata": {},
   "source": [
    "## Creating One Observation per Detail Record <a class=\"anchor\" id=\"create1obsdetail\"></a>\n",
    "\n",
    "If it is indicated which records are header and which records are detail, then use conditional IF/THEN statements to output appropriate records. From there, it is necessary to use the RETAIN statement to save values within the PDV across iterations. This can be combined with a single @ in the INPUT statement to organize hierarchical files.\n",
    "\n",
    "An example of this in usage is shown below:\n",
    "\n",
    "    data perm.people (drop=type);   \n",
    "       infile census;  \n",
    "       retain Address;  \n",
    "       input type $1. @;  \n",
    "       if type='H' then input @3 address $15.;  \n",
    "       if type='P';  \n",
    "       input @3 Name $10. @13 Age 3. @16 Gender $1.;  \n",
    "    run;"
   ]
  },
  {
   "cell_type": "markdown",
   "metadata": {},
   "source": [
    "## Creating One Observation per Header Record <a class=\"anchor\" id=\"create1obsheader\"></a>\n",
    "\n",
    "Creating 1 observation per header record is able to condense and summarize information concisely. Steps are similar to above, but the DO loop would come in handy here:\n",
    "\n",
    "    data perm.residnts (drop = type);  \n",
    "        infile census end=last;\n",
    "        retain Address;  \n",
    "        input type $1. @;  \n",
    "        if type='H' then do;  \n",
    "            if _n_ > 1 then output;  \n",
    "            Total=0;  \n",
    "            input address $ 3-17;  \n",
    "        end;\n",
    "        else if type='P' then total+1;\n",
    "         if last then output\n",
    "    run;"
   ]
  }
 ],
 "metadata": {
  "kernelspec": {
   "display_name": "SAS",
   "language": "sas",
   "name": "sas"
  },
  "language_info": {
   "codemirror_mode": "sas",
   "file_extension": ".sas",
   "mimetype": "text/x-sas",
   "name": "sas"
  }
 },
 "nbformat": 4,
 "nbformat_minor": 0
}
