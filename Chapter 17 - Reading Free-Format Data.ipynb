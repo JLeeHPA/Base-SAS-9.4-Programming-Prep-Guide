{
 "cells": [
  {
   "cell_type": "markdown",
   "metadata": {},
   "source": [
    "# Chapter 17 - Reading Free-Format Data"
   ]
  },
  {
   "cell_type": "markdown",
   "metadata": {},
   "source": [
    "## Table of Contents:"
   ]
  },
  {
   "cell_type": "markdown",
   "metadata": {},
   "source": [
    "1. [Objectives](#Objectives)\n",
    "2. [Free-Format Data](#Free-Format-Data)\n",
    "3. [Reading Missing Values](#Reading-Missing-Values)\n",
    "4. [Specifying the Length of Character Variables](#Specifying-the-Length-of-Character-Variables)\n",
    "5. [Modifying List Input](#Modifying-List-Input)\n",
    "6. [Creating Free-Format Data](#Creating-Free-Format-Data)\n",
    "7. [Mixing Input Styles](#Mixing-Input-Styles)"
   ]
  },
  {
   "cell_type": "markdown",
   "metadata": {},
   "source": [
    "### Objectives"
   ]
  },
  {
   "cell_type": "markdown",
   "metadata": {},
   "source": [
    "* use the `INPUT` statement with list input to read free-format data (data that is not organized in fixed fields)\n",
    "* use the `INPUT` statement with list input to read free-format data that is separated by nonblank delimiters, such as commas\n",
    "* free-format data that contains missing values\n",
    "* char values that exceed 8 characters\n",
    "* nonstandard free-format data\n",
    "* char values that contain embedded blanks\n",
    "* mix column, formatted, and list input styles in a single `INPUT` statement"
   ]
  },
  {
   "cell_type": "markdown",
   "metadata": {},
   "source": [
    "[(back to top)](#Table-of-Contents:)"
   ]
  },
  {
   "cell_type": "markdown",
   "metadata": {},
   "source": [
    "### Free-Format Data"
   ]
  },
  {
   "cell_type": "markdown",
   "metadata": {},
   "source": [
    "**Free-format data** contains data that is not arranged in fixed fields, though there is often times a delimiter that separates information in any given record.\n",
    "\n",
    "The list input can be used to read standard and nonstandard free-format data. Its syntax is thus:\n",
    "\n",
    "    input <variable list> <$ after every char variable>;\n",
    "\n",
    "Simply list the variable names in the order corresponding to raw data fields. Fields must be read from left to right and cannot be skipped or re-read. For the variables to be created in the PDV, this generally comes after the `INFILE` statement:\n",
    "\n",
    "    data <output dataset>;\n",
    "        infile filename dlm = <delimiter>;\n",
    "        input <variable list>;\n",
    "    run;\n",
    "    \n",
    "Here, the DLM option specifies the delimiter to look for in the raw data file. As always, the `INPUT` statement can accomodate variable instances if variables have incremental names.\n",
    "\n",
    "SAS reads search record, associating the data that comes before a delimiter as corresponding to a particular variable in the list. It scans until the variables generated in the PDV have been filled or it has reached the end-of-record."
   ]
  },
  {
   "cell_type": "markdown",
   "metadata": {},
   "source": [
    "[(back to top)](#Table-of-Contents:)"
   ]
  },
  {
   "cell_type": "markdown",
   "metadata": {},
   "source": [
    "### Reading Missing Values"
   ]
  },
  {
   "cell_type": "markdown",
   "metadata": {},
   "source": [
    "If missing values occur at the beginning or end of the record, the `MISSOVER` option in the `INFILE` statement can be used to assign missing values to variables with missing data at the beginning/end of a record. It prevents SAS from filling in variables with data from the next record if it does not find values in the current line. Its syntax is like this:\n",
    "\n",
    "    infile filename missover;\n",
    "    \n",
    "For missing data elsewhere, use the Delimiter Sensitive Data (`DSD`) option in the `INFILE` statement:\n",
    "\n",
    "    infile filename dsd;\n",
    "    \n",
    "This ssets the default delimiter to be a comma and treats 2 consecutive delimiters as a missing value. Quotation marks are removed from all values. The `DLM =` option can be used to specify the delimiter for DSD."
   ]
  },
  {
   "cell_type": "markdown",
   "metadata": {},
   "source": [
    "[(back to top)](#Table-of-Contents:)"
   ]
  },
  {
   "cell_type": "markdown",
   "metadata": {},
   "source": [
    "### Specifying the Length of Character Variables"
   ]
  },
  {
   "cell_type": "markdown",
   "metadata": {},
   "source": [
    "The `LENGTH` statement allows you to specify the length of character variables:\n",
    "\n",
    "    length charvar1 $ n1 charvar2 $ n2 ...;\n",
    "    \n",
    "If the lengths for multiple variables are the same, list them and then place the dollar sign and length number after them. The `LENGTH` statement should precede the `INPUT`/`INFILE`/`SET` statements in the DATA step. A variable specified in the `LENGTH` statement will appear first in the dataset."
   ]
  },
  {
   "cell_type": "markdown",
   "metadata": {},
   "source": [
    "[(back to top)](#Table-of-Contents:)"
   ]
  },
  {
   "cell_type": "markdown",
   "metadata": {},
   "source": [
    "### Modifying List Input"
   ]
  },
  {
   "cell_type": "markdown",
   "metadata": {},
   "source": [
    "To **read char values that contain embedded blanks**, use the **ampersand (&) modifier**:\n",
    "\n",
    "    input charvar &;\n",
    "    \n",
    "To **read nonstandard data values and/or char values that are longer than 8 chars**, use the **colon modifier (:)**:\n",
    "\n",
    "    input charvar : <informat.>;"
   ]
  },
  {
   "cell_type": "markdown",
   "metadata": {},
   "source": [
    "[(back to top)](#Table-of-Contents:)"
   ]
  },
  {
   "cell_type": "markdown",
   "metadata": {},
   "source": [
    "### Creating Free-Format Data"
   ]
  },
  {
   "cell_type": "markdown",
   "metadata": {},
   "source": [
    "Use the `PUT` statement with list output to create free-format raw data files:\n",
    "\n",
    "    put variable <: format>;\n",
    "    \n",
    "where the colon (:) precedes every format. Specify the file using the `FILE` statement:\n",
    "\n",
    "    data _null_;\n",
    "        set <input dataset>;\n",
    "        file <file path> dlm = <delimiter>;\n",
    "        put <variable list with formats>;\n",
    "    run;\n",
    "    \n",
    "where the `DLM =` option can be used in the `FILE` statement to create a delimiter.\n",
    "\n",
    "The `EXPORT` procedure works much to the same effect:\n",
    "\n",
    "    proc export data = <output dataset>;\n",
    "        outfile = filename <delimiter = 'delimiter'>;\n",
    "    run;\n",
    "\n",
    "If your values contain commas, use the `DSD` option in the `FILE` statement like before."
   ]
  },
  {
   "cell_type": "markdown",
   "metadata": {},
   "source": [
    "[(back to top)](#Table-of-Contents:)"
   ]
  },
  {
   "cell_type": "markdown",
   "metadata": {},
   "source": [
    "### Mixing Input Styles"
   ]
  },
  {
   "cell_type": "markdown",
   "metadata": {},
   "source": [
    "Input styles can be mixed, like in this example:\n",
    "\n",
    "    data sasuser.mixedstyles;  \n",
    "       infile rawdata.dat;  \n",
    "       input SSN $ 1-11 @13 HireDate date7.  \n",
    "             @21 Salary comma6. Department : $9. Phone $;  \n",
    "    run;"
   ]
  },
  {
   "cell_type": "markdown",
   "metadata": {},
   "source": [
    "[(back to top)](#Table-of-Contents:)"
   ]
  }
 ],
 "metadata": {
  "kernelspec": {
   "display_name": "SAS",
   "language": "sas",
   "name": "sas"
  },
  "language_info": {
   "codemirror_mode": "sas",
   "file_extension": ".sas",
   "mimetype": "text/x-sas",
   "name": "sas"
  }
 },
 "nbformat": 4,
 "nbformat_minor": 1
}
