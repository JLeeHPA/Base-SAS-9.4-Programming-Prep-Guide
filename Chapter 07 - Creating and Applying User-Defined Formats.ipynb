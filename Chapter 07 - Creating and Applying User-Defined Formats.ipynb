{
 "cells": [
  {
   "cell_type": "markdown",
   "metadata": {},
   "source": [
    "# Chapter 07 - Creating and Applying User-Defined Formats"
   ]
  },
  {
   "cell_type": "markdown",
   "metadata": {},
   "source": [
    "## Table of Contents:"
   ]
  },
  {
   "cell_type": "markdown",
   "metadata": {},
   "source": [
    "1. [Objectives](#Objectives)\n",
    "2. [PROC FORMAT](#PROC-FORMAT)\n",
    "3. [Defining a Unique Format](#Defining-a-Unique-Format)\n",
    "4. [Associating User-Defined Formats with Variables](#Associating-User-Defined-Formats-with-Variables)"
   ]
  },
  {
   "cell_type": "markdown",
   "metadata": {},
   "source": [
    "### Objectives"
   ]
  },
  {
   "cell_type": "markdown",
   "metadata": {},
   "source": [
    "* create formats for displaying variable values\n",
    "* permanently store the created formats\n",
    "* assocaite formats with variables"
   ]
  },
  {
   "cell_type": "markdown",
   "metadata": {},
   "source": [
    "[(back to top)](#Table-of-Contents:)"
   ]
  },
  {
   "cell_type": "markdown",
   "metadata": {},
   "source": [
    "### PROC FORMAT"
   ]
  },
  {
   "cell_type": "markdown",
   "metadata": {},
   "source": [
    "Having formats is useful when values from certain variables are coded. For example, if 'yes' and 'no' are coded as 1 and 0, respectively. `PROC FORMAT` allows you to create your own defined formats:\n",
    "\n",
    "    proc format <options>;\n",
    "    \n",
    "All formats created through `PROC FORMAT` are stored in a format catalog. SAS creates a temporary catalog if one isn't specified by a _libref_ in the `PROC FORMAT` options. To permanently store a format, follow the same permanent library steps mentioned in earlier documents. To associate a format with a permanent library, add this option to `PROC FORMAT`:\n",
    "\n",
    "    proc format library = <libref>;\n",
    "        ...;\n",
    "    run;"
   ]
  },
  {
   "cell_type": "markdown",
   "metadata": {},
   "source": [
    "[(back to top)](#Table-of-Contents:)"
   ]
  },
  {
   "cell_type": "markdown",
   "metadata": {},
   "source": [
    "### Defining a Unique Format"
   ]
  },
  {
   "cell_type": "markdown",
   "metadata": {},
   "source": [
    "The `VALUE` statement in `PROC FORMAT` identifies the name that will store the new format. Its syntax is as follows:\n",
    "\n",
    "    value <format-name>\n",
    "        range1 = 'label1'\n",
    "            ...\n",
    "        rangen = 'labeln';\n",
    "\n",
    "If the format is for character data, the format name bust begin with a '$'. The format name cannot be the name of any existing SAS format.\n",
    "\n",
    "An example of `PROC FORMAT` can be found here:\n",
    "\n",
    "    proc format lib=library;  \n",
    "       value jobfmt  \n",
    "             103='manager'  \n",
    "             105='text processor'  \n",
    "             111='assoc. technical writer'  \n",
    "             112='technical writer'  \n",
    "             113='senior technical writer';  \n",
    "    run; \n",
    "\n",
    "Range of values can also be specified using the standard operators. Make sure to avoid overlapping values. An example of specified ranges can be seen below:\n",
    "\n",
    "    proc format lib=library;  \n",
    "       value agefmt  \n",
    "             0-<13='child'  \n",
    "             13-<20='teenager'  \n",
    "             20-<65='adult'  \n",
    "             65-100='senior citizen';  \n",
    "    run; \n",
    "\n",
    "The following keywords can also be used to define range limits:\n",
    "* `LOW` - includes missing character values as well\n",
    "* `HIGH`\n",
    "* `OTHER`\n",
    "\n",
    "Multiple formats can be defined in the same `PROC FORMAT` step. Formats can be deleted using `PROC CATALOG` or the SAS Explorer window.\n",
    "\n",
    "Adding the `FMTLIB` option to `PROC FORMAT` displays all the formats in the catalog along with descriptions of their values:\n",
    "\n",
    "    proc format library = <libref> fmtlib;\n",
    "    run;\n",
    "\n",
    "Additional information included are:\n",
    "* length of longest label\n",
    "* number of values defined by this format\n",
    "* version of SAS used to create format\n",
    "* date and time of creation"
   ]
  },
  {
   "cell_type": "markdown",
   "metadata": {},
   "source": [
    "[(back to top)](#Table-of-Contents:)"
   ]
  },
  {
   "cell_type": "markdown",
   "metadata": {},
   "source": [
    "### Associating User-Defined Formats with Variables"
   ]
  },
  {
   "cell_type": "markdown",
   "metadata": {},
   "source": [
    "If a user-created format is ever called up, SAS searches 2 locations:\n",
    "* temporary library referenced by _libref_ Work\n",
    "* a permanent library referenced by a _libref_\n",
    "\n",
    "Any format is associated with a variable using the FORMAT statement in either a PROC step or a DATA step. A FORMAT statement within a DATA step permanently associates a format with a particular variable. When associating a format using `FORMAT`, remember to place a period (.) after the format name."
   ]
  },
  {
   "cell_type": "markdown",
   "metadata": {},
   "source": [
    "[(back to top)](#Table-of-Contents:)"
   ]
  }
 ],
 "metadata": {
  "kernelspec": {
   "display_name": "SAS",
   "language": "sas",
   "name": "sas"
  },
  "language_info": {
   "codemirror_mode": "sas",
   "file_extension": ".sas",
   "mimetype": "text/x-sas",
   "name": "sas"
  }
 },
 "nbformat": 4,
 "nbformat_minor": 0
}
