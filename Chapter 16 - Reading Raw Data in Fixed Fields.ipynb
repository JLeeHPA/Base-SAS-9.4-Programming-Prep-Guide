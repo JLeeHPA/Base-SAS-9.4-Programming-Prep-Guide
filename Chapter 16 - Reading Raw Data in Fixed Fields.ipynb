{
 "cells": [
  {
   "cell_type": "markdown",
   "metadata": {},
   "source": [
    "# Chapter 16 - Reading Raw Data in Fixed Fields\n",
    "\n",
    "## Table of Contents:\n",
    "\n",
    "1. [Objectives](#objectives)\n",
    "2. [Nonstandard Numeric Data](#nonstandardnum)\n",
    "3. [Record Formats](#recordformats)"
   ]
  },
  {
   "cell_type": "markdown",
   "metadata": {},
   "source": [
    "## Objectives: <a class=\"anchor\" id=\"objectives\"></a>\n",
    "\n",
    "* distinguish between standard and nonstandard numeric data\n",
    "* read standard fixed-field data\n",
    "* read nonstandard fixed-field data"
   ]
  },
  {
   "cell_type": "markdown",
   "metadata": {},
   "source": [
    "## Nonstandard Numeric Data <a class=\"anchor\" id=\"nonstandardnum\"></a>\n",
    "\n",
    "For nonstandard numeric data, an input style needs to be defined. A specifying a format involves the following statement:\n",
    "\n",
    "    input <pointer-control> variable <$ if char> informat.;\n",
    "    \n",
    "The optional POINTER-CONTROL value moves the pointer to a specific column.\n",
    "\n",
    "The @N pointer-control operator moves the pointer to column N:\n",
    "\n",
    "    input @n vvariable <$ if char> informat.;\n",
    "    \n",
    "The +N pointer-control operator moves the input pointer forward N columns relative to its current position:\n",
    "\n",
    "    input +n vvariable <$ if char> informat.;\n",
    "    \n",
    "To move the pointer backwards, use the +(-N) operator.\n",
    "\n",
    "An informat is an instruction that tells SAS how to read raw data. A small sample of informats include:\n",
    "* PERCENTw.d\n",
    "* $BINARYw.\n",
    "* COMMAw.d\n",
    "* DATEw.\n",
    "* MMDDYYw.\n",
    "* PERCENTw.\n",
    "* TIMEw.\n",
    "* w.d\n",
    "\n",
    "The \"w\" indicates the width of the raw data field, the \".\" is a required delimiter, and the optional \"d\" specifies the number of implied decimal places. A complete list of informats can be found in the SAS documentation.\n",
    "\n",
    "The COMMAw.d informat removes special characters, such as:\n",
    "* blanks\n",
    "* commas\n",
    "* dashes\n",
    "* dollar signs\n",
    "* percent signs\n",
    "* right parentheses\n",
    "* left parentheses, interpreted as minus signs\n",
    "\n",
    "The length of stored numeric variables are not affected by informats/formats. By default SAS will store numeric values as 8-byte floats."
   ]
  },
  {
   "cell_type": "markdown",
   "metadata": {},
   "source": [
    "## Record Formats <a class=\"anchor\" id=\"recordformats\"></a>\n",
    "\n",
    "A record format specifies how records are organized in a file and can affect how data is read with column/formatted input. **Fixed-length records** have an end-of-record marker after a predetermined number of columns whereas **variable-length records** have an end-of-record marker after the last field in each record.\n",
    "\n",
    "To read variable-length records that contain fixed-field data, use the PAD option in the INFILE statement:\n",
    "\n",
    "    infile filename pad;\n",
    "    \n",
    "It pads each record with blanks so that all data lines have the same length.\n",
    "\n",
    "The maximum record length can be specified with the LRECL = option in the INFILE statement:\n",
    "\n",
    "    infile filename lrecl = n;"
   ]
  }
 ],
 "metadata": {
  "kernelspec": {
   "display_name": "SAS",
   "language": "sas",
   "name": "sas"
  },
  "language_info": {
   "codemirror_mode": "sas",
   "file_extension": ".sas",
   "mimetype": "text/x-sas",
   "name": "sas"
  }
 },
 "nbformat": 4,
 "nbformat_minor": 0
}
