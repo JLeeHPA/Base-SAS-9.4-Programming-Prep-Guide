{
 "cells": [
  {
   "cell_type": "markdown",
   "metadata": {},
   "source": [
    "# Chapter 15 - Processing Variables with Arrays"
   ]
  },
  {
   "cell_type": "markdown",
   "metadata": {},
   "source": [
    "## Table of Contents:"
   ]
  },
  {
   "cell_type": "markdown",
   "metadata": {},
   "source": [
    "1. [Objectives](#Objectives)\n",
    "2. [Creating One-Dimensional Arrays](#Creating-One-Dimensional-Arrays)\n",
    "3. [Extending Your Use of Arrays](#Extending-Your-Use-of-Arrays)\n",
    "4. [Multidimensional Arrays](#Multidimensional-Arrays)"
   ]
  },
  {
   "cell_type": "markdown",
   "metadata": {},
   "source": [
    "### Objectives"
   ]
  },
  {
   "cell_type": "markdown",
   "metadata": {},
   "source": [
    "* group variables into 1- and 2-dimensional arrays\n",
    "* perofrm an action on array elements\n",
    "* create new variables with an `ARRAY` statement\n",
    "* assign initial values to array elements\n",
    "* create temporary array elements with an `ARRAY` statement"
   ]
  },
  {
   "cell_type": "markdown",
   "metadata": {},
   "source": [
    "[(back to top)](#Table-of-Contents:)"
   ]
  },
  {
   "cell_type": "markdown",
   "metadata": {},
   "source": [
    "### Creating One-Dimensional Arrays"
   ]
  },
  {
   "cell_type": "markdown",
   "metadata": {},
   "source": [
    "A SAS array is a temporary gropuing of SAS variables. It is usually used to run the variables through a same set of code. By grouping the variables into an array, they can be processed through a `DO` loop.\n",
    "\n",
    "Arrays are defined by the `ARRAY` statement:\n",
    "\n",
    "    array <array name>[<dimension>] <variable list>;\n",
    "    \n",
    "Do not give an array the same name as a variable in the same DATA step. SAS can automatically determine the dimension necessary if you place the asterisk (\\*) within the brackets:\n",
    "\n",
    "    array <array name>[*] <variable list>;\n",
    "    \n",
    "For specific variable lists, refer to this table:\n",
    "\n",
    "<table>\n",
    "    <tr>\n",
    "        <td>**variables**</td>\n",
    "        <td>**form to place into `ARRAY` statement**</td>\n",
    "    </tr>\n",
    "    <tr>\n",
    "        <td>numbered range of variables</td>\n",
    "        <td>`var1-varn`</td>\n",
    "    </tr>\n",
    "    <tr>\n",
    "        <td>all variables of type num</td>\n",
    "        <td>`_NUMERIC_`</td>\n",
    "    </tr>\n",
    "    <tr>\n",
    "        <td>all variables of type char</td>\n",
    "        <td>`_CHARACTER_`</td>\n",
    "    </tr>\n",
    "    <tr>\n",
    "        <td>all variables</td>\n",
    "        <td>`_ALL_`</td>\n",
    "    </tr>\n",
    "</table>\n",
    "\n",
    "To reference a specific element in an array, add its index into the brackets:\n",
    "\n",
    "    newarr[4];\n",
    "    \n",
    "An example of arrays in usage can be seen here:\n",
    "\n",
    "    data newdata;\n",
    "        set olddata;\n",
    "        array quarter[4] jan apr jul oct;\n",
    "        do k = 1 to 4;\n",
    "            YearGold = quarter[k]*1.2;\n",
    "        end;\n",
    "    run;\n",
    "    \n",
    "Arrays only exist for the duration of the DAT step. Array elements are simply pointers to the variable block in the PDV.\n",
    "\n",
    "To programmically set the stop value on a `DO` loop when working with arrys, use the `DIM` function. the `DIM` function returns the number of elements in an array:\n",
    "\n",
    "    x = dim(array_name);\n",
    "\n",
    "Its usage in a `DO` loop looks like:\n",
    "\n",
    "    do k = 1 to dim(newarr);\n",
    "        ...\n",
    "    end;"
   ]
  },
  {
   "cell_type": "markdown",
   "metadata": {},
   "source": [
    "[(back to top)](#Table-of-Contents:)"
   ]
  },
  {
   "cell_type": "markdown",
   "metadata": {},
   "source": [
    "### Extending Your Use of Arrays"
   ]
  },
  {
   "cell_type": "markdown",
   "metadata": {},
   "source": [
    "You can create new variables in an `ARRAY` statement using the same syntax but a variable list with non-existing variable names. If no variable list is specified, SAS creates variables with the same name as the array and its element index appended to it. For arrays of char variables, add a dollar sign ($) after the array dimension:\n",
    "\n",
    "    array newarr[4} $;\n",
    "    \n",
    "To specify a specific length for these char variables to be, add its value after the dollar sign. \n",
    "\n",
    "To assign initial values to an array, place those initial values within a parenthesis ( ) after the variable list. Numeric values are space delimited, whereas character values are comma delimited:\n",
    "\n",
    "    array numarr[3] (1 2 3);\n",
    "    array charvar[3] $ 5 ('one', 'two', 'three');\n",
    "    \n",
    "To create temporary array elements without creating aditional variables, use the `_TEMPORARY_` option:\n",
    "\n",
    "    array newarr[3] _temporary_ (1 2 3);"
   ]
  },
  {
   "cell_type": "markdown",
   "metadata": {},
   "source": [
    "[(back to top)](#Table-of-Contents:)"
   ]
  },
  {
   "cell_type": "markdown",
   "metadata": {},
   "source": [
    "### Multidimensional Arrays"
   ]
  },
  {
   "cell_type": "markdown",
   "metadata": {},
   "source": [
    "Multidimensional arrays are defined by placing a second value, delimited by a comma, in the dimensions bracket:\n",
    "\n",
    "    array newarr[m, n] <variable list>;\n",
    "    \n",
    "The variables are then distributed across the rows (M) and columns (N) from top-left to bottom-right hand corners. Multidimensional arrays take advantage of nested `DO` loop structures. Usage is the same as 1-D arrays."
   ]
  },
  {
   "cell_type": "markdown",
   "metadata": {},
   "source": [
    "[(back to top)](#Table-of-Contents:)"
   ]
  }
 ],
 "metadata": {
  "kernelspec": {
   "display_name": "SAS",
   "language": "sas",
   "name": "sas"
  },
  "language_info": {
   "codemirror_mode": "sas",
   "file_extension": ".sas",
   "mimetype": "text/x-sas",
   "name": "sas"
  }
 },
 "nbformat": 4,
 "nbformat_minor": 0
}
