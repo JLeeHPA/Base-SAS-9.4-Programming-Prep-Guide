{
 "cells": [
  {
   "cell_type": "markdown",
   "metadata": {},
   "source": [
    "# Chapter 19 - Creating a Single Observation from Multiple Records"
   ]
  },
  {
   "cell_type": "markdown",
   "metadata": {},
   "source": [
    "## Table of Contents:"
   ]
  },
  {
   "cell_type": "markdown",
   "metadata": {},
   "source": [
    "1. [Objectives](#Objectives)\n",
    "2. [Using Line Pointer Controls](#Using-Line-Pointer-Controls)"
   ]
  },
  {
   "cell_type": "markdown",
   "metadata": {},
   "source": [
    "### Objectives"
   ]
  },
  {
   "cell_type": "markdown",
   "metadata": {},
   "source": [
    "* read multiple records sequentially and create a single observation\n",
    "* read multiple records non-sequentially and create a single observation"
   ]
  },
  {
   "cell_type": "markdown",
   "metadata": {},
   "source": [
    "[(back to top)](#Table-of-Contents:)"
   ]
  },
  {
   "cell_type": "markdown",
   "metadata": {},
   "source": [
    "### Using Line Pointer Controls"
   ]
  },
  {
   "cell_type": "markdown",
   "metadata": {},
   "source": [
    "A line location relative to the current line can be indicated by the forward slash option (`/`):\n",
    "\n",
    "    input variable1 /\n",
    "          variable2 variable3 ...;\n",
    "          \n",
    "This forward slash (`/`) pointer control is used to read multiple records sequentially.          \n",
    "          \n",
    "An absolute line location can be indicated by the #N operator:\n",
    "\n",
    "    input #2 var1\n",
    "          #1 var2\n",
    "          #3 var3;\n",
    "          \n",
    "The forward slash option can be used to sequentially read multiple records into a single observation. For example:\n",
    "\n",
    "    input Lname $ 1-8 Fname $ 10-15 /  \n",
    "          Department $ 1-12 JobCode $ 15-19 /   \n",
    "          Salary comma10.; \n",
    "\n",
    "The raw data file must contain the same number of records for each observation. If observations contain different numbers of records, information will be read incorrectly.\n",
    "\n",
    "The #N operator can be used to read multiple records non-sequentially in any order specified by `#N`. For example:\n",
    "\n",
    "    input #2 Department $ 1-12 JobCode $ 15-19  \n",
    "          #1 Lname $ Fname $  \n",
    "          #3 Salary comma10.; \n",
    "\n",
    "It must be specified before the instructions for reading values in a specific record.\n",
    "\n",
    "These pointer controls can easily be combined into a single `INPUT` statement, like in the example below:\n",
    "\n",
    "    input #4 ID $5.  \n",
    "          #1 Fname $ Lname $ /   \n",
    "             Address $23. /  \n",
    "             City $ State $ Zip $ /  \n",
    "             @7 Doctor $6.;  "
   ]
  },
  {
   "cell_type": "markdown",
   "metadata": {},
   "source": [
    "[(back to top)](#Table-of-Contents:)"
   ]
  }
 ],
 "metadata": {
  "kernelspec": {
   "display_name": "SAS",
   "language": "sas",
   "name": "sas"
  },
  "language_info": {
   "codemirror_mode": "sas",
   "file_extension": ".sas",
   "mimetype": "text/x-sas",
   "name": "sas"
  }
 },
 "nbformat": 4,
 "nbformat_minor": 0
}
