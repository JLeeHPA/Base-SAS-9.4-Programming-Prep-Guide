{
 "cells": [
  {
   "cell_type": "markdown",
   "metadata": {},
   "source": [
    "# Chapter 09 - Producing HTML Output"
   ]
  },
  {
   "cell_type": "markdown",
   "metadata": {},
   "source": [
    "## Table of Contents:"
   ]
  },
  {
   "cell_type": "markdown",
   "metadata": {},
   "source": [
    "1. [Objectives](#Objectives)\n",
    "2. [The Output Delivery System](#The-Output-Delivery-System)\n",
    "3. [ODS HTML](#ODS-HTML)\n",
    "4. [Changing the Appearance of HTML Output](#Changing-the-Appearance-of-HTML-Output)"
   ]
  },
  {
   "cell_type": "markdown",
   "metadata": {},
   "source": [
    "### Objectives"
   ]
  },
  {
   "cell_type": "markdown",
   "metadata": {},
   "source": [
    "* open and close ODS destinations\n",
    "* create a simple HTML file with the output of one or more procedures\n",
    "* create HTML output with a linked table of contents in a frame\n",
    "* use options to specify links and file paths\n",
    "* view HTML output\n",
    "* apply styles to HTML output"
   ]
  },
  {
   "cell_type": "markdown",
   "metadata": {},
   "source": [
    "[(back to top)](#Table-of-Contents:)"
   ]
  },
  {
   "cell_type": "markdown",
   "metadata": {},
   "source": [
    "### The Output Delivery System"
   ]
  },
  {
   "cell_type": "markdown",
   "metadata": {},
   "source": [
    "The Output Delivery System (ODS) can generate the following types of outputs:\n",
    "* HTML\n",
    "* LISTING\n",
    "* XML/other markup languages\n",
    "* document\n",
    "* output SAS datasets\n",
    "* printer family (PS/PDF/PCL)\n",
    "* RTF\n",
    "\n",
    "The path to generate these outputs are known as ODS destinations.\n",
    "\n",
    "After submitting ODS statements, SAS uses ODS to create the outputs in the form of output objects. The output objects contain both the data and metadata about how to render the output. It then sends the output object to be processed by the destination and creates a link ot each object in the Results window. \n",
    "\n",
    "To open and close an ODS destination, use the following ODS statements:\n",
    "\n",
    "    ods <destination>;         * to open;\n",
    "    ods <destination> close;   * to close;\n",
    "\n",
    "Most destinations are closed by default. It can be a good idea to close the HTML destination if you're not using HTML in order to conserve computer resources. To close multiple ODS destinations at the same time, use the `_ALL_` keyword:\n",
    "\n",
    "    ods _all_ close;"
   ]
  },
  {
   "cell_type": "markdown",
   "metadata": {},
   "source": [
    "[(back to top)](#Table-of-Contents:)"
   ]
  },
  {
   "cell_type": "markdown",
   "metadata": {},
   "source": [
    "### ODS HTML"
   ]
  },
  {
   "cell_type": "markdown",
   "metadata": {},
   "source": [
    "If you want HTML with options, then you need to open the HTML destination using the ODS HTML statement:\n",
    "\n",
    "    ods html body = <file path>;\n",
    "    ods html close;\n",
    "    \n",
    "Placing this before multiple procedures will direct the latter results to that particular HTML file.\n",
    "\n",
    "To create a table of contents in the HTML file, use the `CONTENTS` and `FRAME` options:\n",
    "\n",
    "    ods html body = <file path> contents = <contents file path> frame = <frame file path>;\n",
    "    \n",
    "The `CONTENTS` path specifies a file with the table of contents to be generated and the `FRAME` path specifies an HTML file that integrates the table of contents with the information. All of the links in the `CONTENTS HTML` document references the `BODY` document. If a FRAME option is requested a `CONTENTS` option must also be requested. In addition, you can also add a shorthand URL instead of the full path as an option on the `BODY` and `CONTENTS` request like so:\n",
    "\n",
    "    ods html body <file path> (url = <shorthand path>);"
   ]
  },
  {
   "cell_type": "markdown",
   "metadata": {},
   "source": [
    "[(back to top)](#Table-of-Contents:)"
   ]
  },
  {
   "cell_type": "markdown",
   "metadata": {},
   "source": [
    "### Changing the Appearance of HTML Output"
   ]
  },
  {
   "cell_type": "markdown",
   "metadata": {},
   "source": [
    "The HTML output appearance can be controlled using the `STYLE =` option in the `ODS HTML` statement. Common style definitions are:\n",
    "* Banker\n",
    "* BarrettsBlue\n",
    "* default\n",
    "* HTMLblue\n",
    "* Minimal.\n",
    "* statistical\n",
    "\n",
    "Its syntax is as follows:\n",
    "\n",
    "    ods html body = <file path> style = <style name>;\n",
    "\n",
    "The `STYLE =` option does not need quotation marks. You can also create style definitions using the `TEMPLATE` procedure. See SAS documentation for more help."
   ]
  },
  {
   "cell_type": "markdown",
   "metadata": {},
   "source": [
    "[(back to top)](#Table-of-Contents:)"
   ]
  }
 ],
 "metadata": {
  "kernelspec": {
   "display_name": "SAS",
   "language": "sas",
   "name": "sas"
  },
  "language_info": {
   "codemirror_mode": "sas",
   "file_extension": ".sas",
   "mimetype": "text/x-sas",
   "name": "sas"
  }
 },
 "nbformat": 4,
 "nbformat_minor": 0
}
