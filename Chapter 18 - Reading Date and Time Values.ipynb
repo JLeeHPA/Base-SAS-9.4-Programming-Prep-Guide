{
 "cells": [
  {
   "cell_type": "markdown",
   "metadata": {},
   "source": [
    "# Chapter 18 - Reading Date and Time Values\n",
    "\n",
    "## Table of Contents:\n",
    "\n",
    "1. [Objectives](#objectives)\n",
    "2. [How SAS Stores Date/Time Values](#datetimestore)\n",
    "3. [Reading Dates and Times with Informats](#readdatetime)\n",
    "4. [Using Dates and Times in Calculations](#datetimecalc)\n",
    "5. [Using Date and Time Formats](#datetimeformats)"
   ]
  },
  {
   "cell_type": "markdown",
   "metadata": {},
   "source": [
    "## Objectives: <a class=\"anchor\" id=\"objectives\"></a>\n",
    "\n",
    "* how SAS stores date and time values\n",
    "* use SAS informats to read common date and time expressions\n",
    "* handle 2-digit year values\n",
    "* calculate time intervals by subtracting 2 dates\n",
    "* multiply a time interval by a rate\n",
    "* display various date and time values"
   ]
  },
  {
   "cell_type": "markdown",
   "metadata": {},
   "source": [
    "## How SAS Stores Date/Time Values <a class=\"anchor\" id=\"datetimestore\"></a>\n",
    "\n",
    "Much of this is covered in Chapter 13. To reiterate:\n",
    "* SAS dates start from January 1st, 1960 as 0 and increment by 1 for each day\n",
    "* SAS times start from 12:00 AM as 0 and increment by 1 for each second\n",
    "\n",
    "Dates are based on the Gregorian calendar and can run from 1582 A.D. to 20,000 A.D."
   ]
  },
  {
   "cell_type": "markdown",
   "metadata": {},
   "source": [
    "## Reading Dates and Times with Informats <a class=\"readdatetime\"></a>\n",
    "\n",
    "All date/time informats have 3 parts:\n",
    "1. an informat name\n",
    "2. a field width\n",
    "3. a period delimiter\n",
    "\n",
    "To specify an informat for a SAS date, use the INPUT statement with the typical usage. Different informats for dates can be seen here for January 15th, 2017:\n",
    "\n",
    "<table>\n",
    "    <tr>\n",
    "        <td>**informat**</td>\n",
    "        <td>**effect**</td>\n",
    "    </tr>\n",
    "    <tr>\n",
    "        <td>MMDDYYw.</td>\n",
    "        <td>01/15/17</td>\n",
    "    </tr>\n",
    "    <tr>\n",
    "        <td>DATEw.</td>\n",
    "        <td>15Jan2017</td>\n",
    "    </tr>\n",
    "</table>\n",
    "\n",
    "Time informats are displayed in hh:mm:ss.ss. To specify the 2-digit year, use the YEARCUTOFF option as described in Chapter 02.\n",
    "\n",
    "If a MMDDYYw. format of width = 8 tries to read a 4-digit year, it will require the YEARCUTOFF to be appropriate. A width = 10 will read it just fine though.\n",
    "\n",
    "There is a time format called TIMEw. The minimum width for this format is 5.\n",
    "\n",
    "If date or time values are invalid (for example, January 32nd), then SAS prints an error to the log and imputs that variable as missing for that particular observation. "
   ]
  },
  {
   "cell_type": "markdown",
   "metadata": {},
   "source": [
    "## Using Dates and Times in Calculations <a class=\"anchor\" id=\"datetimecalc\"></a>\n",
    "\n",
    "Since SAS records the dates as integer values, addition and subtraction can be performed on the raw integers. In addition, this is easily extended to determine rates or calculate values from rate constants. Differences between dates must be incremented by 1 because the difference is inclusive."
   ]
  },
  {
   "cell_type": "markdown",
   "metadata": {},
   "source": [
    "## Using Date and Time Formats <a class=\"anchor\" id=\"datetimeformats\"></a>\n",
    "\n",
    "SAS provides many specialized date and time formats that enable to you specify how date and time values are displayed. They can be found in the SAS help documentation and will not be covered here."
   ]
  }
 ],
 "metadata": {
  "kernelspec": {
   "display_name": "SAS",
   "language": "sas",
   "name": "sas"
  },
  "language_info": {
   "codemirror_mode": "sas",
   "file_extension": ".sas",
   "mimetype": "text/x-sas",
   "name": "sas"
  }
 },
 "nbformat": 4,
 "nbformat_minor": 0
}
