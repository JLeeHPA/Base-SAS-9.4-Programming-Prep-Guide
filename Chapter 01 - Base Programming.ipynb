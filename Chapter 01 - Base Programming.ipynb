{
 "cells": [
  {
   "cell_type": "markdown",
   "metadata": {},
   "source": [
    "# Chapter 01 - Base Programming\n",
    "\n",
    "## Table of Contents:\n",
    "1. [Objectives](#objectives)\n",
    "2. [SAS Programs](#programs)\n",
    "3. [SAS Libraries](#libraries)\n",
    "4. [SAS Datasets](#datasets)"
   ]
  },
  {
   "cell_type": "markdown",
   "metadata": {},
   "source": [
    "## Objectives: <a class=\"anchor\" id=\"objectives\"></a>\n",
    "* strucutre/components of SAS programs\n",
    "* steps involved in processing SAS programs\n",
    "* SAS libraries and the types of SAS files they contain\n",
    "* temporary/permament SAS libraries\n",
    "* structure/components of a SAS dataset\n",
    "* SAS windowing environment"
   ]
  },
  {
   "cell_type": "markdown",
   "metadata": {},
   "source": [
    "## SAS Programs <a class=\"anchor\" id=\"programs\"></a>\n",
    "\n",
    "SAS programs **access, manage, analyze, and present data**.\n",
    "\n",
    "There are 2 components of a SAS program:\n",
    "* DATA step\n",
    "    * creates/modifies datasets\n",
    "    * computes values\n",
    "    * checks for error and validates data\n",
    "* PROC step\n",
    "    * invokes pre-written routines\n",
    "    * writes output to report\n",
    "\n",
    "SAS programs consist of SAS statements. All SAS statements have 2 features:\n",
    "* they begin with a SAS keyword\n",
    "* they end with a semicolon (;)\n",
    "\n",
    "When SAS processes a program, it first checks the statements for errors. Steps are isolated by:\n",
    "* DATA/PROC statements - indicates the beginning of a step\n",
    "* RUN/QUIT statements - indicates the end of a step\n",
    "\n",
    "SAS writes processing notes and errors to the log. The outputs of each SAS step are generally different:\n",
    "* DATA step - outputs a dataset\n",
    "* PROC step - outputs a report (usually in HTML) or opens an interactive window\n",
    "    * some PROC steps that manage data do not output anything (for example, PROC SORT or PROC TRANSPOSE)"
   ]
  },
  {
   "cell_type": "markdown",
   "metadata": {},
   "source": [
    "## SAS Libraries <a class=\"anchor\" id=\"libraries\"></a>\n",
    "\n",
    "Every SAS file is stored in a **SAS library**. The SAS library is the highest level of organization in SAS. There are 2 types of libraries:\n",
    "* temporary - all files are deleted once the SAS session ends\n",
    "    * temporary files are found in the WORK folder\n",
    "* permanent - files are stored in a location on the local disk\n",
    "    * permanent files are found in a LIBREF folder\n",
    "\n",
    "Referencing files in each kind of library uses different rules:\n",
    "* temporary - **1 or 2-level structure**: use WORK.FILENAME or just FILENAME\n",
    "* permanent - **2-level structure**:  use LIBREF.FILENAME\n",
    "\n",
    "LIBREF names have:\n",
    "* 1 to 8 chars"
   ]
  },
  {
   "cell_type": "markdown",
   "metadata": {},
   "source": [
    "## SAS Datasets <a class=\"anchor\" id=\"datasets\"></a>\n",
    "\n",
    "Datasets hold the data to be processed and analyzed by SAS. They consist of 2 parts:\n",
    "* a descriptor portion - contains metadata\n",
    "* a data portion - contains data\n",
    "\n",
    "The descriptor portion consists of the following elements:\n",
    "* dataset name\n",
    "* date/time dataset was created\n",
    "* number of observations\n",
    "* number of variables\n",
    "* variable attributes\n",
    "\n",
    "Variable attributes that are contained within a dataset include:\n",
    "* name - variable name\n",
    "* type\n",
    "    * character\n",
    "    * numeric\n",
    "* length\n",
    "    * character lengths can be up to the length of a 32-bit word/short (32,767 bytes long)\n",
    "    * numeric lengths are defaulted to 8 bytes\n",
    "* format - affect the way data values are written/output\n",
    "* informat - affect the way data values are read/input\n",
    "* label - description of a variable\n",
    "    * up to 256 chars long\n",
    "\n",
    "The data portion consists of the following elements:\n",
    "* observations (rows)\n",
    "* variables (columns)\n",
    "* missing values\n",
    "\n",
    "Dataset names have:\n",
    "* 1 to 32 chars\n",
    "* must begin with letter or underscore (\\_)\n",
    "* can combine letters, numbers and underscores"
   ]
  }
 ],
 "metadata": {
  "kernelspec": {
   "display_name": "SAS",
   "language": "sas",
   "name": "sas"
  },
  "language_info": {
   "codemirror_mode": "sas",
   "file_extension": ".sas",
   "mimetype": "text/x-sas",
   "name": "sas"
  }
 },
 "nbformat": 4,
 "nbformat_minor": 0
}
