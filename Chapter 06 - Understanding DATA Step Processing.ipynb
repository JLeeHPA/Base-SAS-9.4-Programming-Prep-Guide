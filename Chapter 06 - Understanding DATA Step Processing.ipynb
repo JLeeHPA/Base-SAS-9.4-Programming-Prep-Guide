{
 "cells": [
  {
   "cell_type": "markdown",
   "metadata": {},
   "source": [
    "# Chapter 06 - Understanding DATA Step Processing"
   ]
  },
  {
   "cell_type": "markdown",
   "metadata": {},
   "source": [
    "## Table of Contents:"
   ]
  },
  {
   "cell_type": "markdown",
   "metadata": {},
   "source": [
    "1. [Objectives](#Objectives)\n",
    "2. [How SAS Processes Programs](#How-SAS-Processes-Programs)\n",
    "3. [Compilation Phase](#Compilation-Phase)\n",
    "4. [Execution Phase](#Execution-Phase)\n",
    "5. [Debugging a DATA Step](#Debugging-a-DATA-Step)\n",
    "6. [Testing Your Programs](#Testing-Your-Programs)"
   ]
  },
  {
   "cell_type": "markdown",
   "metadata": {},
   "source": [
    "### Objectives"
   ]
  },
  {
   "cell_type": "markdown",
   "metadata": {},
   "source": [
    "* identify the 2 phases that occur when a DATA step is processed\n",
    "* interpret automatic variables\n",
    "* identify the processing phase in which an error occurs\n",
    "* debug SAS DATA steps\n",
    "* validate and clean invalid data\n",
    "* test programs by limiting the number of observations that are created\n",
    "* flag errors in the SAS log"
   ]
  },
  {
   "cell_type": "markdown",
   "metadata": {},
   "source": [
    "[(back to top)](#Table-of-Contents:)"
   ]
  },
  {
   "cell_type": "markdown",
   "metadata": {},
   "source": [
    "### How SAS Processes Programs"
   ]
  },
  {
   "cell_type": "markdown",
   "metadata": {},
   "source": [
    "A SAS DATA step is processed in 2 phases:\n",
    "1. compilation phase - each statement scanned for syntax errors and the descriptor portion of the dataset is created\n",
    "2. execution phase - the input data is read and processed with the commands in the DATA step executing once per observation\n",
    "\n",
    "If a syntax error occurs, SAS fails at the compilation phase."
   ]
  },
  {
   "cell_type": "markdown",
   "metadata": {},
   "source": [
    "[(back to top)](#Table-of-Contents:)"
   ]
  },
  {
   "cell_type": "markdown",
   "metadata": {},
   "source": [
    "### Compilation Phase"
   ]
  },
  {
   "cell_type": "markdown",
   "metadata": {},
   "source": [
    "At the beginning of the compilation phase, an input buffer is first created to hold a single observation from an external file. No input buffer is created for a SAS dataset.\n",
    "\n",
    "Next, a Program Data Vector (PDV) is created where SAS will hold the current observation. The PDV contains 2 automatic variables that are not output to the resulting dataset:\n",
    "* `_N_` counts the number of times the DATA step has executed (inclusive)\n",
    "* `_ERROR_` boolean value signals that an error has occured during this DATA step iteration\n",
    "\n",
    "A PDV vector looks like the following:\n",
    "\n",
    "<table>\n",
    "    <tr>\n",
    "        <td>`_N_`</td><td>`_ERROR_`</td><td>`var1`</td><td>`var2`</td><td>`var3`</td><td>`var4`</td><td>`var5`</td><td>`...`</td>\n",
    "    </tr>\n",
    "</table>\n",
    "\n",
    "At this stage, the PDV vector holds no observations.\n",
    "\n",
    "Afterwards, syntax checking is performed. Syntax errors will still allow the DATA step to compile, but it won't execute. Once syntactical issues are resolved, dataset variable lengths are set and space is allocated to accomodate them. Finally, the descriptor portion of the dataset is generated.\n",
    "\n",
    "In summary, the compilation phase consists of:\n",
    "1. input buffer creation (if source data is from external file)\n",
    "2. Program Data Vector (PDV) is created to hold the current observation\n",
    "3. syntax checking occurs\n",
    "4. dataset variables are generated\n",
    "5. the descriptor portion of the SAS dataset is created"
   ]
  },
  {
   "cell_type": "markdown",
   "metadata": {},
   "source": [
    "[(back to top)](#Table-of-Contents:)"
   ]
  },
  {
   "cell_type": "markdown",
   "metadata": {},
   "source": [
    "### Execution Phase"
   ]
  },
  {
   "cell_type": "markdown",
   "metadata": {},
   "source": [
    "Once the compilation phase is over, the DATA step moves onto the execution phase. During execution, each observation in the source destination is copied to:\n",
    "\n",
    "<table>\n",
    "    <tr>\n",
    "        <td>**Source**</td>\n",
    "        <td>**Intermediary**</td>\n",
    "    </tr>\n",
    "    <tr>\n",
    "        <td>external file</td>\n",
    "        <td>input buffer => PDV</td>\n",
    "    </tr>\n",
    "    <tr>\n",
    "        <td>SAS dataset</td>\n",
    "        <td>PDV</td>\n",
    "    </tr>\n",
    "</table>\n",
    "\n",
    "Processing of each variable value occurs and the resultant variables are placed into the PDV. The DATA step executes once for each record in the input file, unless otherwise directed by additional statements.\n",
    "\n",
    "At the beginning of the execution phase, `_N_ = 1` and `_ERROR_ = 0`. All other variables are set to missing.\n",
    "\n",
    "Then, the `SET`/`INPUT` statement identifies the source file to draw data from. The first observation is used. Then, SAS proceeds to parse out the variables to the appropriate places in the PDV. Afterwards, assignment of the variables occurs with the final value replacing whatever the initial value of a variable was in the PDV.\n",
    "\n",
    "At the end of the DATA step (indicated by a RUN statement), the values in the PDV are written to the output dataset. Then, SAS returns to the top of the DATA step. `_N_` is incremented by 1 and `_ERROR_` is set to 0. Then, the next observation is processed until SAS reaches the end of all observations from that particular data source.\n",
    "\n",
    "In summary, the execution phase consists of:\n",
    "1. `_N_` is incremented by 1 and `_ERROR_` set to 0\n",
    "2. variables in the PDV are set to missing\n",
    "3. each statement executed sequentially\n",
    "4. `SET`/`INPUT` statement identifies the source and adds the current observation to the PDV\n",
    "5. assignment statements modify the current observation\n",
    "6. PDV values are written to the output dataset at the end of each iteration of the DATA step\n",
    "7. if not the end of file, the DATA step is restarts at the top using the next observation\n",
    "8. if end of file, DATA step ends"
   ]
  },
  {
   "cell_type": "markdown",
   "metadata": {},
   "source": [
    "[(back to top)](#Table-of-Contents:)"
   ]
  },
  {
   "cell_type": "markdown",
   "metadata": {},
   "source": [
    "### Debugging a DATA step"
   ]
  },
  {
   "cell_type": "markdown",
   "metadata": {},
   "source": [
    "Debugging is addressed in Chapter 04. Refer to that document for more information.\n",
    "\n",
    "To detect invalid data, invoke any of these statements:\n",
    "* `PROC PRINT`\n",
    "* `PROC FREQ`\n",
    "* `PROC MEANS`\n",
    "\n",
    "Their usage will not be covered here. Subsetting can be used to help clean the data and check for invalid observations. Observations with invalid data can be deleted if need be:\n",
    "\n",
    "    if <expression to determine validity> then delete;"
   ]
  },
  {
   "cell_type": "markdown",
   "metadata": {},
   "source": [
    "[(back to top)](#Table-of-Contents:)"
   ]
  },
  {
   "cell_type": "markdown",
   "metadata": {},
   "source": [
    "### Testing Your Programs"
   ]
  },
  {
   "cell_type": "markdown",
   "metadata": {},
   "source": [
    "Apart from limiting the number of printed observations, the `PUT` statement can be useful here. `PUT` outputs a variable's value to the log. This can be used in diagnostic testing. For example:"
   ]
  },
  {
   "cell_type": "code",
   "execution_count": 1,
   "metadata": {
    "collapsed": false
   },
   "outputs": [
    {
     "data": {
      "text/html": [
       "<!DOCTYPE html PUBLIC \"-//W3C//DTD HTML 4.01//EN\"\n",
       "   \"http://www.w3.org/TR/html4/strict.dtd\">\n",
       "\n",
       "<html>\n",
       "<head>\n",
       "  <title></title>\n",
       "  <meta http-equiv=\"content-type\" content=\"text/html; charset=None\">\n",
       "  <style type=\"text/css\">\n",
       "td.linenos { background-color: #f0f0f0; padding-right: 10px; }\n",
       "span.lineno { background-color: #f0f0f0; padding: 0 5px 0 5px; }\n",
       "pre { line-height: 125%; }\n",
       "body .hll { background-color: #ffffcc }\n",
       "body  { background: #ffffff; }\n",
       "body .c { color: #0000FF } /* Comment */\n",
       "body .k { color: #ff0000; font-weight: bold } /* Keyword */\n",
       "body .n { color: #008000 } /* Name */\n",
       "body .ch { color: #0000FF } /* Comment.Hashbang */\n",
       "body .cm { color: #0000FF } /* Comment.Multiline */\n",
       "body .cp { color: #0000FF } /* Comment.Preproc */\n",
       "body .cpf { color: #0000FF } /* Comment.PreprocFile */\n",
       "body .c1 { color: #0000FF } /* Comment.Single */\n",
       "body .cs { color: #0000FF } /* Comment.Special */\n",
       "body .kc { color: #ff0000; font-weight: bold } /* Keyword.Constant */\n",
       "body .kd { color: #ff0000; font-weight: bold } /* Keyword.Declaration */\n",
       "body .kn { color: #ff0000; font-weight: bold } /* Keyword.Namespace */\n",
       "body .kp { color: #ff0000; font-weight: bold } /* Keyword.Pseudo */\n",
       "body .kr { color: #ff0000; font-weight: bold } /* Keyword.Reserved */\n",
       "body .kt { color: #ff0000; font-weight: bold } /* Keyword.Type */\n",
       "body .s { color: #111111 } /* Literal.String */\n",
       "body .na { color: #008000 } /* Name.Attribute */\n",
       "body .nb { color: #008000 } /* Name.Builtin */\n",
       "body .nc { color: #008000 } /* Name.Class */\n",
       "body .no { color: #008000 } /* Name.Constant */\n",
       "body .nd { color: #008000 } /* Name.Decorator */\n",
       "body .ni { color: #008000 } /* Name.Entity */\n",
       "body .ne { color: #008000 } /* Name.Exception */\n",
       "body .nf { color: #008000 } /* Name.Function */\n",
       "body .nl { color: #008000 } /* Name.Label */\n",
       "body .nn { color: #008000 } /* Name.Namespace */\n",
       "body .nx { color: #008000 } /* Name.Other */\n",
       "body .py { color: #008000 } /* Name.Property */\n",
       "body .nt { color: #008000 } /* Name.Tag */\n",
       "body .nv { color: #008000 } /* Name.Variable */\n",
       "body .sb { color: #111111 } /* Literal.String.Backtick */\n",
       "body .sc { color: #111111 } /* Literal.String.Char */\n",
       "body .sd { color: #111111 } /* Literal.String.Doc */\n",
       "body .s2 { color: #111111 } /* Literal.String.Double */\n",
       "body .se { color: #111111 } /* Literal.String.Escape */\n",
       "body .sh { color: #111111 } /* Literal.String.Heredoc */\n",
       "body .si { color: #111111 } /* Literal.String.Interpol */\n",
       "body .sx { color: #111111 } /* Literal.String.Other */\n",
       "body .sr { color: #111111 } /* Literal.String.Regex */\n",
       "body .s1 { color: #111111 } /* Literal.String.Single */\n",
       "body .ss { color: #111111 } /* Literal.String.Symbol */\n",
       "body .bp { color: #008000 } /* Name.Builtin.Pseudo */\n",
       "body .vc { color: #008000 } /* Name.Variable.Class */\n",
       "body .vg { color: #008000 } /* Name.Variable.Global */\n",
       "body .vi { color: #008000 } /* Name.Variable.Instance */\n",
       "\n",
       "  </style>\n",
       "</head>\n",
       "<body>\n",
       "<h2></h2>\n",
       "\n",
       "<div class=\"highlight\"><pre><span></span><span class=\"s\">11   ods listing close;ods html5 file=stdout options(bitmap_mode=&#39;inline&#39;) device=png; ods graphics on / outputfmt=png;</span><br><span class=\"cm\">NOTE: Writing HTML5 Body file: STDOUT</span><br><span class=\"s\">12   </span><br><span class=\"s\">13   data class;</span><br><span class=\"s\">14       set sashelp.class;</span><br><span class=\"s\">15       if sex = &#39;M&#39; then put &#39;Male&#39;;</span><br><span class=\"s\">16   run;</span><br><span class=\"err\">Male</span><br><span class=\"err\">Male</span><br><span class=\"err\">Male</span><br><span class=\"err\">Male</span><br><span class=\"err\">Male</span><br><span class=\"err\">Male</span><br><span class=\"err\">Male</span><br><span class=\"err\">Male</span><br><span class=\"err\">Male</span><br><span class=\"err\">Male</span><br><span class=\"cm\">NOTE: There were 19 observations read from the data set SASHELP.CLASS.</span><br><span class=\"cm\">NOTE: The data set WORK.CLASS has 19 observations and 5 variables.</span><br><span class=\"cm\">NOTE: DATA statement used (Total process time):</span><br><span class=\"cm\">      real time           0.00 seconds</span><br><span class=\"cm\">      cpu time            0.00 seconds</span><br><span class=\"cm\">      </span><br><span class=\"s\">17   ods html5 close;ods listing;</span><br><br><span class=\"s\">18   </span><br></pre></div>\n",
       "</body>\n",
       "</html>\n"
      ],
      "text/plain": [
       "<IPython.core.display.HTML object>"
      ]
     },
     "execution_count": 1,
     "metadata": {},
     "output_type": "execute_result"
    }
   ],
   "source": [
    "data class;\n",
    "    set sashelp.class;\n",
    "    if sex = 'M' then put 'Male';\n",
    "run;"
   ]
  },
  {
   "cell_type": "markdown",
   "metadata": {},
   "source": [
    "[(back to top)](#Table-of-Contents:)"
   ]
  }
 ],
 "metadata": {
  "kernelspec": {
   "display_name": "SAS",
   "language": "sas",
   "name": "sas"
  },
  "language_info": {
   "codemirror_mode": "sas",
   "file_extension": ".sas",
   "mimetype": "text/x-sas",
   "name": "sas"
  }
 },
 "nbformat": 4,
 "nbformat_minor": 0
}
