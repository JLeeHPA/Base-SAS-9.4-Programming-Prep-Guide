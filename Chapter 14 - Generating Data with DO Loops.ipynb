{
 "cells": [
  {
   "cell_type": "markdown",
   "metadata": {},
   "source": [
    "# Chapter 14 - Generating Data with DO Loops\n",
    "\n",
    "## Table of Contents:\n",
    "\n",
    "1. [Objectives](#objectives)\n",
    "2. [Constructing DO Loops](#constructdo)\n",
    "3. [Nesting DO Loops](#nestdo)\n",
    "4. [Conditionally Executing DO Loops](#condexecdo)\n",
    "5. [Sampling a Dataset](#samplingdataset)"
   ]
  },
  {
   "cell_type": "markdown",
   "metadata": {},
   "source": [
    "## Objectives <a class=\"anchor\" id=\"objectives\"></a>\n",
    "\n",
    "* construct a DO loop to perform repetitive calculations\n",
    "* control the execution of a DO loop\n",
    "* generate multiple observations in one iteration of the DATA step\n",
    "* construct nested DO loops"
   ]
  },
  {
   "cell_type": "markdown",
   "metadata": {},
   "source": [
    "## Constructing DO Loops <a class=\"anchor\" id=\"constructdo\"></a>\n",
    "\n",
    "Do loops simplify coding by cycling through a very similar set of code for a set number of iterations. In general, the syntax for a DO loop is as follows:\n",
    "\n",
    "    do <index_variable> = <start> to <stop> by <increment>;\n",
    "        ...\n",
    "    end;\n",
    "\n",
    "The increment value can be positive or negative. If negative, stop value should be smaller than the start value. If a BY increment isn't specified, SAS assumes that the increment is 1. For example:"
   ]
  },
  {
   "cell_type": "code",
   "execution_count": 5,
   "metadata": {
    "collapsed": false,
    "scrolled": true
   },
   "outputs": [
    {
     "data": {
      "text/html": [
       "<!DOCTYPE html PUBLIC \"-//W3C//DTD HTML 4.01//EN\"\n",
       "   \"http://www.w3.org/TR/html4/strict.dtd\">\n",
       "\n",
       "<html>\n",
       "<head>\n",
       "  <title></title>\n",
       "  <meta http-equiv=\"content-type\" content=\"text/html; charset=None\">\n",
       "  <style type=\"text/css\">\n",
       "td.linenos { background-color: #f0f0f0; padding-right: 10px; }\n",
       "span.lineno { background-color: #f0f0f0; padding: 0 5px 0 5px; }\n",
       "pre { line-height: 125%; }\n",
       "body .hll { background-color: #ffffcc }\n",
       "body  { background: #ffffff; }\n",
       "body .c { color: #0000FF } /* Comment */\n",
       "body .k { color: #ff0000; font-weight: bold } /* Keyword */\n",
       "body .n { color: #008000 } /* Name */\n",
       "body .ch { color: #0000FF } /* Comment.Hashbang */\n",
       "body .cm { color: #0000FF } /* Comment.Multiline */\n",
       "body .cp { color: #0000FF } /* Comment.Preproc */\n",
       "body .cpf { color: #0000FF } /* Comment.PreprocFile */\n",
       "body .c1 { color: #0000FF } /* Comment.Single */\n",
       "body .cs { color: #0000FF } /* Comment.Special */\n",
       "body .kc { color: #ff0000; font-weight: bold } /* Keyword.Constant */\n",
       "body .kd { color: #ff0000; font-weight: bold } /* Keyword.Declaration */\n",
       "body .kn { color: #ff0000; font-weight: bold } /* Keyword.Namespace */\n",
       "body .kp { color: #ff0000; font-weight: bold } /* Keyword.Pseudo */\n",
       "body .kr { color: #ff0000; font-weight: bold } /* Keyword.Reserved */\n",
       "body .kt { color: #ff0000; font-weight: bold } /* Keyword.Type */\n",
       "body .s { color: #111111 } /* Literal.String */\n",
       "body .na { color: #008000 } /* Name.Attribute */\n",
       "body .nb { color: #008000 } /* Name.Builtin */\n",
       "body .nc { color: #008000 } /* Name.Class */\n",
       "body .no { color: #008000 } /* Name.Constant */\n",
       "body .nd { color: #008000 } /* Name.Decorator */\n",
       "body .ni { color: #008000 } /* Name.Entity */\n",
       "body .ne { color: #008000 } /* Name.Exception */\n",
       "body .nf { color: #008000 } /* Name.Function */\n",
       "body .nl { color: #008000 } /* Name.Label */\n",
       "body .nn { color: #008000 } /* Name.Namespace */\n",
       "body .nx { color: #008000 } /* Name.Other */\n",
       "body .py { color: #008000 } /* Name.Property */\n",
       "body .nt { color: #008000 } /* Name.Tag */\n",
       "body .nv { color: #008000 } /* Name.Variable */\n",
       "body .sb { color: #111111 } /* Literal.String.Backtick */\n",
       "body .sc { color: #111111 } /* Literal.String.Char */\n",
       "body .sd { color: #111111 } /* Literal.String.Doc */\n",
       "body .s2 { color: #111111 } /* Literal.String.Double */\n",
       "body .se { color: #111111 } /* Literal.String.Escape */\n",
       "body .sh { color: #111111 } /* Literal.String.Heredoc */\n",
       "body .si { color: #111111 } /* Literal.String.Interpol */\n",
       "body .sx { color: #111111 } /* Literal.String.Other */\n",
       "body .sr { color: #111111 } /* Literal.String.Regex */\n",
       "body .s1 { color: #111111 } /* Literal.String.Single */\n",
       "body .ss { color: #111111 } /* Literal.String.Symbol */\n",
       "body .bp { color: #008000 } /* Name.Builtin.Pseudo */\n",
       "body .vc { color: #008000 } /* Name.Variable.Class */\n",
       "body .vg { color: #008000 } /* Name.Variable.Global */\n",
       "body .vi { color: #008000 } /* Name.Variable.Instance */\n",
       "\n",
       "  </style>\n",
       "</head>\n",
       "<body>\n",
       "<h2></h2>\n",
       "\n",
       "<div class=\"highlight\"><pre><span></span><span class=\"s\">51   ods listing close;ods html5 file=stdout options(bitmap_mode=&#39;inline&#39;) device=png; ods graphics on / outputfmt=png;</span><br><span class=\"cm\">NOTE: Writing HTML5 Body file: STDOUT</span><br><span class=\"s\">52   </span><br><span class=\"s\">53   data _null_;</span><br><span class=\"s\">54       do k = 1 to 5;</span><br><span class=\"s\">55           put &#39;iteration: &#39; k;</span><br><span class=\"s\">56       end;</span><br><span class=\"s\">57   run;</span><br><span class=\"err\">iteration:</span> <span class=\"err\">1</span><br><span class=\"err\">iteration:</span> <span class=\"err\">2</span><br><span class=\"err\">iteration:</span> <span class=\"err\">3</span><br><span class=\"err\">iteration:</span> <span class=\"err\">4</span><br><span class=\"err\">iteration:</span> <span class=\"err\">5</span><br><span class=\"cm\">NOTE: DATA statement used (Total process time):</span><br><span class=\"cm\">      real time           0.00 seconds</span><br><span class=\"cm\">      cpu time            0.00 seconds</span><br><span class=\"cm\">      </span><br><span class=\"s\">58   ods html5 close;ods listing;</span><br><br><span class=\"s\">59   </span><br></pre></div>\n",
       "</body>\n",
       "</html>\n"
      ],
      "text/plain": [
       "<IPython.core.display.HTML object>"
      ]
     },
     "execution_count": 5,
     "metadata": {},
     "output_type": "execute_result"
    }
   ],
   "source": [
    "data _null_;\n",
    "    do k = 1 to 5;\n",
    "        put 'iteration: ' k;\n",
    "    end;\n",
    "run;"
   ]
  },
  {
   "cell_type": "markdown",
   "metadata": {},
   "source": [
    "To create an observation for every loop, place an OUTPUT statement within the loop.\n",
    "\n",
    "DO loops can also use a list of values as the index variable. The variable will then run through the list of index values:"
   ]
  },
  {
   "cell_type": "code",
   "execution_count": 6,
   "metadata": {
    "collapsed": false
   },
   "outputs": [
    {
     "data": {
      "text/html": [
       "<!DOCTYPE html PUBLIC \"-//W3C//DTD HTML 4.01//EN\"\n",
       "   \"http://www.w3.org/TR/html4/strict.dtd\">\n",
       "\n",
       "<html>\n",
       "<head>\n",
       "  <title></title>\n",
       "  <meta http-equiv=\"content-type\" content=\"text/html; charset=None\">\n",
       "  <style type=\"text/css\">\n",
       "td.linenos { background-color: #f0f0f0; padding-right: 10px; }\n",
       "span.lineno { background-color: #f0f0f0; padding: 0 5px 0 5px; }\n",
       "pre { line-height: 125%; }\n",
       "body .hll { background-color: #ffffcc }\n",
       "body  { background: #ffffff; }\n",
       "body .c { color: #0000FF } /* Comment */\n",
       "body .k { color: #ff0000; font-weight: bold } /* Keyword */\n",
       "body .n { color: #008000 } /* Name */\n",
       "body .ch { color: #0000FF } /* Comment.Hashbang */\n",
       "body .cm { color: #0000FF } /* Comment.Multiline */\n",
       "body .cp { color: #0000FF } /* Comment.Preproc */\n",
       "body .cpf { color: #0000FF } /* Comment.PreprocFile */\n",
       "body .c1 { color: #0000FF } /* Comment.Single */\n",
       "body .cs { color: #0000FF } /* Comment.Special */\n",
       "body .kc { color: #ff0000; font-weight: bold } /* Keyword.Constant */\n",
       "body .kd { color: #ff0000; font-weight: bold } /* Keyword.Declaration */\n",
       "body .kn { color: #ff0000; font-weight: bold } /* Keyword.Namespace */\n",
       "body .kp { color: #ff0000; font-weight: bold } /* Keyword.Pseudo */\n",
       "body .kr { color: #ff0000; font-weight: bold } /* Keyword.Reserved */\n",
       "body .kt { color: #ff0000; font-weight: bold } /* Keyword.Type */\n",
       "body .s { color: #111111 } /* Literal.String */\n",
       "body .na { color: #008000 } /* Name.Attribute */\n",
       "body .nb { color: #008000 } /* Name.Builtin */\n",
       "body .nc { color: #008000 } /* Name.Class */\n",
       "body .no { color: #008000 } /* Name.Constant */\n",
       "body .nd { color: #008000 } /* Name.Decorator */\n",
       "body .ni { color: #008000 } /* Name.Entity */\n",
       "body .ne { color: #008000 } /* Name.Exception */\n",
       "body .nf { color: #008000 } /* Name.Function */\n",
       "body .nl { color: #008000 } /* Name.Label */\n",
       "body .nn { color: #008000 } /* Name.Namespace */\n",
       "body .nx { color: #008000 } /* Name.Other */\n",
       "body .py { color: #008000 } /* Name.Property */\n",
       "body .nt { color: #008000 } /* Name.Tag */\n",
       "body .nv { color: #008000 } /* Name.Variable */\n",
       "body .sb { color: #111111 } /* Literal.String.Backtick */\n",
       "body .sc { color: #111111 } /* Literal.String.Char */\n",
       "body .sd { color: #111111 } /* Literal.String.Doc */\n",
       "body .s2 { color: #111111 } /* Literal.String.Double */\n",
       "body .se { color: #111111 } /* Literal.String.Escape */\n",
       "body .sh { color: #111111 } /* Literal.String.Heredoc */\n",
       "body .si { color: #111111 } /* Literal.String.Interpol */\n",
       "body .sx { color: #111111 } /* Literal.String.Other */\n",
       "body .sr { color: #111111 } /* Literal.String.Regex */\n",
       "body .s1 { color: #111111 } /* Literal.String.Single */\n",
       "body .ss { color: #111111 } /* Literal.String.Symbol */\n",
       "body .bp { color: #008000 } /* Name.Builtin.Pseudo */\n",
       "body .vc { color: #008000 } /* Name.Variable.Class */\n",
       "body .vg { color: #008000 } /* Name.Variable.Global */\n",
       "body .vi { color: #008000 } /* Name.Variable.Instance */\n",
       "\n",
       "  </style>\n",
       "</head>\n",
       "<body>\n",
       "<h2></h2>\n",
       "\n",
       "<div class=\"highlight\"><pre><span></span><span class=\"s\">61   ods listing close;ods html5 file=stdout options(bitmap_mode=&#39;inline&#39;) device=png; ods graphics on / outputfmt=png;</span><br><span class=\"cm\">NOTE: Writing HTML5 Body file: STDOUT</span><br><span class=\"s\">62   </span><br><span class=\"s\">63   data _null_;</span><br><span class=\"s\">64       do k = &#39;SUN&#39;, &#39;MON&#39;, &#39;TUE&#39;, &#39;WED&#39;, &#39;THU&#39;, &#39;FRI&#39;, &#39;SAT&#39;;</span><br><span class=\"s\">65           put &#39;Day of the week: &#39; k;</span><br><span class=\"s\">66       end;</span><br><span class=\"s\">67   run;</span><br><span class=\"err\">Day</span> <span class=\"err\">of</span> <span class=\"err\">the</span> <span class=\"err\">week:</span> <span class=\"err\">SUN</span><br><span class=\"err\">Day</span> <span class=\"err\">of</span> <span class=\"err\">the</span> <span class=\"err\">week:</span> <span class=\"err\">MON</span><br><span class=\"err\">Day</span> <span class=\"err\">of</span> <span class=\"err\">the</span> <span class=\"err\">week:</span> <span class=\"err\">TUE</span><br><span class=\"err\">Day</span> <span class=\"err\">of</span> <span class=\"err\">the</span> <span class=\"err\">week:</span> <span class=\"err\">WED</span><br><span class=\"err\">Day</span> <span class=\"err\">of</span> <span class=\"err\">the</span> <span class=\"err\">week:</span> <span class=\"err\">THU</span><br><span class=\"err\">Day</span> <span class=\"err\">of</span> <span class=\"err\">the</span> <span class=\"err\">week:</span> <span class=\"err\">FRI</span><br><span class=\"err\">Day</span> <span class=\"err\">of</span> <span class=\"err\">the</span> <span class=\"err\">week:</span> <span class=\"err\">SAT</span><br><span class=\"cm\">NOTE: DATA statement used (Total process time):</span><br><span class=\"cm\">      real time           0.00 seconds</span><br><span class=\"cm\">      cpu time            0.00 seconds</span><br><span class=\"cm\">      </span><br><span class=\"s\">68   ods html5 close;ods listing;</span><br><br><span class=\"s\">69   </span><br></pre></div>\n",
       "</body>\n",
       "</html>\n"
      ],
      "text/plain": [
       "<IPython.core.display.HTML object>"
      ]
     },
     "execution_count": 6,
     "metadata": {},
     "output_type": "execute_result"
    }
   ],
   "source": [
    "data _null_;\n",
    "    do k = 'SUN', 'MON', 'TUE', 'WED', 'THU', 'FRI', 'SAT';\n",
    "        put 'Day of the week: ' k;\n",
    "    end;\n",
    "run;"
   ]
  },
  {
   "cell_type": "markdown",
   "metadata": {},
   "source": [
    "In addition to generating new data, DO loops can also be used iteratively process input observations as well."
   ]
  },
  {
   "cell_type": "markdown",
   "metadata": {},
   "source": [
    "## Nesting DO Loops <a class=\"anchor\" id=\"nestdo\"></a>\n",
    "\n",
    "DO loops can be nested within each other:\n",
    "\n",
    "    do i = 1 to 20;\n",
    "        do j = 1 to 40;\n",
    "            ...\n",
    "        end;\n",
    "    end;"
   ]
  },
  {
   "cell_type": "markdown",
   "metadata": {},
   "source": [
    "## Conditionally Executing DO Loops <a class=\"anchor\" id=\"condexecdo\"></a>\n",
    "\n",
    "The DO WHILE and DO UNTIL loops allow you to execute DO loops based on whether a condition is TRUE or FALSE. They were briefly covered in Chapter 10.\n",
    "\n",
    "The DO UNTIL statement loops until a supplied expression returns TRUE. It has the following syntax:\n",
    "\n",
    "    do until(expression);\n",
    "        ...\n",
    "    end;\n",
    "\n",
    "The expression is not evaluated until the bottom the loop, so the DO UNTIL loop always evaluates at least once. Once the expression is TRUE, DO UNTIL stops.\n",
    "\n",
    "The DO WHILE statement loops while the expression returns TRUE. It has the following syntax:\n",
    "\n",
    "    do while(expression);\n",
    "        ...\n",
    "    end;\n",
    "    \n",
    "The DO WHILE expression is evaluated at the top of the loop, meaning that if the expression starts off FALSE, the loop never executes. Once the expression is FALSE, DO WHILE stops.\n",
    "\n",
    "Incrementation can be combined with these conditional clauses as well:\n",
    "\n",
    "    do <index_variable> = <start> to <stop> by <increment> until(expression); \n",
    "    do <index_variable> = <start> to <stop> by <increment> while(expression);\n",
    "\n",
    "Usage is the same as above."
   ]
  },
  {
   "cell_type": "markdown",
   "metadata": {},
   "source": [
    "## Sampling a Dataset <a class=\"anchor\" id=\"samplingdataset\"></a>\n",
    "\n",
    "A DO loop is an easy way to draw sample observations from a dataset. Stick the SET statement within a DO loop to draw every kth observation:\n",
    "\n",
    "    data <output dataset>;\n",
    "        do i = 1 to 100 by <k>;\n",
    "            set <input dataset> point = i;\n",
    "            output;\n",
    "        end;\n",
    "        stop;\n",
    "    run;\n",
    "\n"
   ]
  }
 ],
 "metadata": {
  "kernelspec": {
   "display_name": "SAS",
   "language": "sas",
   "name": "sas"
  },
  "language_info": {
   "codemirror_mode": "sas",
   "file_extension": ".sas",
   "mimetype": "text/x-sas",
   "name": "sas"
  }
 },
 "nbformat": 4,
 "nbformat_minor": 0
}
